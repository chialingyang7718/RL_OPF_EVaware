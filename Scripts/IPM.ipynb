{
 "cells": [
  {
   "cell_type": "markdown",
   "metadata": {},
   "source": [
    "Neglate phase angle difference, charging and discharging rate"
   ]
  },
  {
   "cell_type": "code",
   "execution_count": 213,
   "metadata": {},
   "outputs": [],
   "source": [
    "import grid_loader as gl\n",
    "import pandas as pd\n",
    "import numpy as np\n",
    "import pandapower as pp"
   ]
  },
  {
   "cell_type": "code",
   "execution_count": 214,
   "metadata": {},
   "outputs": [],
   "source": [
    "# Test case\n",
    "n_case = 9\n",
    "\n",
    "# Load test case\n",
    "net = gl.load_test_case_grid(n_case)\n"
   ]
  },
  {
   "cell_type": "code",
   "execution_count": 215,
   "metadata": {},
   "outputs": [],
   "source": [
    "# Define time periods\n",
    "time_periods = range(0, 24)  # T"
   ]
  },
  {
   "cell_type": "code",
   "execution_count": 216,
   "metadata": {},
   "outputs": [],
   "source": [
    "\n",
    "# Get load data\n",
    "df_load_p = pd.read_csv(\"../Evaluation/Case%s/load_p.csv\"%n_case).transpose()\n",
    "df_load_q = pd.read_csv(\"../Evaluation/Case%s/load_q.csv\"%n_case).transpose()\n",
    "\n",
    "# Get renewable energy data\n",
    "df_renewable = pd.read_csv(\"../Evaluation/Case%s/renewable.csv\"%n_case).transpose()\n",
    "\n",
    "# Get EV data\n",
    "df_EV_spec = pd.read_csv(\"../Evaluation/Case%s/EV_spec.csv\"%n_case)\n",
    "df_EV_SOC = pd.read_csv(\"../Evaluation/Case%s/ev_soc.csv\"%n_case).transpose()\n",
    "df_EV_demand = pd.read_csv(\"../Evaluation/Case%s/ev_demand.csv\"%n_case).transpose()\n"
   ]
  },
  {
   "cell_type": "code",
   "execution_count": 217,
   "metadata": {},
   "outputs": [],
   "source": [
    "N_D = len(net.load.index)\n",
    "# create storage as EV\n",
    "for i in net.load.index:\n",
    "    bus = net.load.loc[i, \"bus\"]\n",
    "    n_car = int(net.load.loc[i, \"p_mw\"])  # number of EVs connected to the bus is assumed to be integer of nominal power of the loads\n",
    "    max_e_mwh= df_EV_spec.loc[df_EV_spec[\"bus\"] == bus, \"max_e_mwh\"].values[0]/n_car\n",
    "    init_soc = df_EV_SOC.loc[:,0].iloc[i]\n",
    "    pp.create_storage(\n",
    "        net,\n",
    "        bus=bus,\n",
    "        p_mw=0,\n",
    "        max_e_mwh= max_e_mwh,\n",
    "        soc_percent=init_soc,\n",
    "        min_e_mwh=df_EV_SOC.loc[:,0].iloc[i]*df_EV_spec.loc[df_EV_spec[\"bus\"] == bus, \"max_e_mwh\"].values[0]/n_car,\n",
    "        index=i,\n",
    "        scaling=n_car,\n",
    "        in_service=True,\n",
    "        max_p_mw= min(0.05, max_e_mwh*(1-init_soc)), # maximum charging power = 50 kW\n",
    "        min_p_mw= max(-0.05, -max_e_mwh*init_soc), # maximum discharging power = 50 kW\n",
    "        max_q_mvar=0,\n",
    "        min_q_mvar=0,\n",
    "        controllable=True,\n",
    "    )\n",
    "    pp.create_load(net, bus=bus, p_mw=0, q_mvar=0, name=\"load_EV\", index=i+N_D, in_service=True, type=None)"
   ]
  },
  {
   "cell_type": "code",
   "execution_count": 218,
   "metadata": {},
   "outputs": [],
   "source": [
    "# Save results\n",
    "df_cost = pd.DataFrame(index=time_periods)\n",
    "df_gen_p = pd.DataFrame(index=time_periods, columns=net.gen.index)\n",
    "df_gen_q = pd.DataFrame(index=time_periods, columns=net.gen.index)\n",
    "df_charge = pd.DataFrame(index=time_periods, columns=net.storage.index)\n",
    "\n",
    "for t in time_periods:\n",
    "    if t == 0:\n",
    "        net.storage.loc[:, \"soc_percent\"] = df_EV_SOC.loc[:, t].values\n",
    "    for i in range(N_D):\n",
    "        # Load data\n",
    "        net.load.loc[i, \"p_mw\"] = df_load_p.loc[:,t].iloc[i]\n",
    "        net.load.loc[i, \"q_mvar\"] = df_load_q.loc[:,t].iloc[i]\n",
    "\n",
    "        # EV demand data\n",
    "        net.load.loc[i+N_D, \"p_mw\"] = df_EV_demand.loc[:,t].iloc[i]\n",
    "\n",
    "    # Renewable energy data\n",
    "    net.gen.loc[:, \"max_p_mw\"]= df_renewable.loc[:, t].values\n",
    "\n",
    "\n",
    "    # Run optimal power flow\n",
    "    pp.runopp(net,verbose=False)\n",
    "    df_cost.loc[t,\"Cost $/hr\"] = net.res_cost\n",
    "    df_gen_p.loc[t] = net.res_gen.loc[:, \"p_mw\"]\n",
    "    df_gen_q.loc[t] = net.res_gen.loc[:, \"q_mvar\"]\n",
    "    df_charge.loc[t] = net.res_storage.loc[:, \"p_mw\"]\n",
    "\n",
    "    # Update EV SOC\n",
    "    for i in range(N_D):\n",
    "        net.storage.loc[i, \"soc_percent\"] = (net.storage.loc[i, \"soc_percent\"]* net.storage.loc[i, \"max_e_mwh\"] + net.res_storage.loc[i, \"p_mw\"])/net.storage.loc[i, \"max_e_mwh\"] \n",
    "        net.storage.loc[i, \"min_e_mwh\"] = df_EV_SOC.loc[:,t].iloc[i]*net.storage.loc[i, \"max_e_mwh\"]\n",
    "        if net.storage.loc[i, \"soc_percent\"] < df_EV_SOC.loc[:, t].iloc[i]:\n",
    "            net.storage.loc[i, \"min_p_mw\"] = 0\n",
    "        elif net.storage.loc[i, \"soc_percent\"] >= 1:\n",
    "            net.storage.loc[i, \"max_p_mw\"] = 0\n",
    "        else:\n",
    "            net.storage.loc[i, \"min_p_mw\"] = -0.05\n",
    "            net.storage.loc[i, \"max_p_mw\"] = 0.05\n"
   ]
  },
  {
   "cell_type": "code",
   "execution_count": 219,
   "metadata": {},
   "outputs": [
    {
     "data": {
      "text/html": [
       "<div>\n",
       "<style scoped>\n",
       "    .dataframe tbody tr th:only-of-type {\n",
       "        vertical-align: middle;\n",
       "    }\n",
       "\n",
       "    .dataframe tbody tr th {\n",
       "        vertical-align: top;\n",
       "    }\n",
       "\n",
       "    .dataframe thead th {\n",
       "        text-align: right;\n",
       "    }\n",
       "</style>\n",
       "<table border=\"1\" class=\"dataframe\">\n",
       "  <thead>\n",
       "    <tr style=\"text-align: right;\">\n",
       "      <th></th>\n",
       "      <th>name</th>\n",
       "      <th>bus</th>\n",
       "      <th>p_mw</th>\n",
       "      <th>q_mvar</th>\n",
       "      <th>sn_mva</th>\n",
       "      <th>soc_percent</th>\n",
       "      <th>min_e_mwh</th>\n",
       "      <th>max_e_mwh</th>\n",
       "      <th>scaling</th>\n",
       "      <th>in_service</th>\n",
       "      <th>type</th>\n",
       "      <th>min_p_mw</th>\n",
       "      <th>max_p_mw</th>\n",
       "      <th>min_q_mvar</th>\n",
       "      <th>max_q_mvar</th>\n",
       "      <th>controllable</th>\n",
       "    </tr>\n",
       "  </thead>\n",
       "  <tbody>\n",
       "    <tr>\n",
       "      <th>0</th>\n",
       "      <td>None</td>\n",
       "      <td>4</td>\n",
       "      <td>0.0</td>\n",
       "      <td>0.0</td>\n",
       "      <td>NaN</td>\n",
       "      <td>0.014184</td>\n",
       "      <td>0.044527</td>\n",
       "      <td>0.04500</td>\n",
       "      <td>90.0</td>\n",
       "      <td>True</td>\n",
       "      <td>None</td>\n",
       "      <td>0.0</td>\n",
       "      <td>0.000615</td>\n",
       "      <td>0.0</td>\n",
       "      <td>0.0</td>\n",
       "      <td>True</td>\n",
       "    </tr>\n",
       "    <tr>\n",
       "      <th>1</th>\n",
       "      <td>None</td>\n",
       "      <td>6</td>\n",
       "      <td>0.0</td>\n",
       "      <td>0.0</td>\n",
       "      <td>NaN</td>\n",
       "      <td>0.010264</td>\n",
       "      <td>0.044971</td>\n",
       "      <td>0.04500</td>\n",
       "      <td>100.0</td>\n",
       "      <td>True</td>\n",
       "      <td>None</td>\n",
       "      <td>0.0</td>\n",
       "      <td>0.001956</td>\n",
       "      <td>0.0</td>\n",
       "      <td>0.0</td>\n",
       "      <td>True</td>\n",
       "    </tr>\n",
       "    <tr>\n",
       "      <th>2</th>\n",
       "      <td>None</td>\n",
       "      <td>8</td>\n",
       "      <td>0.0</td>\n",
       "      <td>0.0</td>\n",
       "      <td>NaN</td>\n",
       "      <td>0.015165</td>\n",
       "      <td>0.045089</td>\n",
       "      <td>0.04561</td>\n",
       "      <td>125.0</td>\n",
       "      <td>True</td>\n",
       "      <td>None</td>\n",
       "      <td>0.0</td>\n",
       "      <td>0.000491</td>\n",
       "      <td>0.0</td>\n",
       "      <td>0.0</td>\n",
       "      <td>True</td>\n",
       "    </tr>\n",
       "  </tbody>\n",
       "</table>\n",
       "</div>"
      ],
      "text/plain": [
       "   name  bus  p_mw  q_mvar  sn_mva  soc_percent  min_e_mwh  max_e_mwh  \\\n",
       "0  None    4   0.0     0.0     NaN     0.014184   0.044527    0.04500   \n",
       "1  None    6   0.0     0.0     NaN     0.010264   0.044971    0.04500   \n",
       "2  None    8   0.0     0.0     NaN     0.015165   0.045089    0.04561   \n",
       "\n",
       "   scaling  in_service  type  min_p_mw  max_p_mw  min_q_mvar  max_q_mvar  \\\n",
       "0     90.0        True  None       0.0  0.000615         0.0         0.0   \n",
       "1    100.0        True  None       0.0  0.001956         0.0         0.0   \n",
       "2    125.0        True  None       0.0  0.000491         0.0         0.0   \n",
       "\n",
       "   controllable  \n",
       "0          True  \n",
       "1          True  \n",
       "2          True  "
      ]
     },
     "execution_count": 219,
     "metadata": {},
     "output_type": "execute_result"
    }
   ],
   "source": [
    "net.storage"
   ]
  },
  {
   "cell_type": "code",
   "execution_count": 220,
   "metadata": {},
   "outputs": [
    {
     "data": {
      "text/plain": [
       "Cost $/hr    142789.126237\n",
       "dtype: float64"
      ]
     },
     "execution_count": 220,
     "metadata": {},
     "output_type": "execute_result"
    }
   ],
   "source": [
    "df_cost.sum()"
   ]
  }
 ],
 "metadata": {
  "kernelspec": {
   "display_name": ".venv",
   "language": "python",
   "name": "python3"
  },
  "language_info": {
   "codemirror_mode": {
    "name": "ipython",
    "version": 3
   },
   "file_extension": ".py",
   "mimetype": "text/x-python",
   "name": "python",
   "nbconvert_exporter": "python",
   "pygments_lexer": "ipython3",
   "version": "3.12.0"
  }
 },
 "nbformat": 4,
 "nbformat_minor": 2
}
